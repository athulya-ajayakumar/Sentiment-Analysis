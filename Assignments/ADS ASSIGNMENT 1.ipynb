{
  "metadata": {
    "language_info": {
      "codemirror_mode": {
        "name": "python",
        "version": 3
      },
      "file_extension": ".py",
      "mimetype": "text/x-python",
      "name": "python",
      "nbconvert_exporter": "python",
      "pygments_lexer": "ipython3",
      "version": "3.8"
    },
    "kernelspec": {
      "name": "python",
      "display_name": "Python (Pyodide)",
      "language": "python"
    }
  },
  "nbformat_minor": 4,
  "nbformat": 4,
  "cells": [
    {
      "cell_type": "code",
      "source": "name = \"Athulya\"\nage = \"20\"\n\nprint(\"Name:\", name)\nprint(\"Age:\", age)\n",
      "metadata": {
        "trusted": true
      },
      "execution_count": 1,
      "outputs": [
        {
          "name": "stdout",
          "text": "Name: Athulya\nAge: 20\n",
          "output_type": "stream"
        }
      ]
    },
    {
      "cell_type": "code",
      "source": "X = \"Datascience is used to extract meaningful insights.\"\nwords = X.split()\n\nfor word in words:\n    print(word)\n",
      "metadata": {
        "trusted": true
      },
      "execution_count": 2,
      "outputs": [
        {
          "name": "stdout",
          "text": "Datascience\nis\nused\nto\nextract\nmeaningful\ninsights.\n",
          "output_type": "stream"
        }
      ]
    },
    {
      "cell_type": "code",
      "source": "def multiply(num1, num2):\n    result = num1 * num2\n    return result\n\nnum1 = 5\nnum2 = 3\nresult = multiply(num1, num2)\nprint(\"The multiplication of\", num1, \"and\", num2, \"is:\", result)\n",
      "metadata": {
        "trusted": true
      },
      "execution_count": 3,
      "outputs": [
        {
          "name": "stdout",
          "text": "The multiplication of 5 and 3 is: 15\n",
          "output_type": "stream"
        }
      ]
    },
    {
      "cell_type": "code",
      "source": "states = {\n    'Maharashtra': 'Mumbai',\n    'Tamil Nadu': 'Chennai',\n    'Karnataka': 'Bengaluru',\n    'Uttar Pradesh': 'Lucknow',\n    'Gujarat': 'Gandhinagar'\n}\n\nprint(\"States:\")\nfor state in states.keys():\n    print(state)\n\nprint(\"\\nState Capitals:\")\nfor capital in states.values():\n    print(capital)\n",
      "metadata": {
        "trusted": true
      },
      "execution_count": 4,
      "outputs": [
        {
          "name": "stdout",
          "text": "States:\nMaharashtra\nTamil Nadu\nKarnataka\nUttar Pradesh\nGujarat\n\nState Capitals:\nMumbai\nChennai\nBengaluru\nLucknow\nGandhinagar\n",
          "output_type": "stream"
        }
      ]
    },
    {
      "cell_type": "code",
      "source": "numbers = list(range(1, 1001))\n\nprint(numbers[:10])\nprint(numbers[-10:])\nprint(numbers[999])\n",
      "metadata": {
        "trusted": true
      },
      "execution_count": 5,
      "outputs": [
        {
          "name": "stdout",
          "text": "[1, 2, 3, 4, 5, 6, 7, 8, 9, 10]\n[991, 992, 993, 994, 995, 996, 997, 998, 999, 1000]\n1000\n",
          "output_type": "stream"
        }
      ]
    },
    {
      "cell_type": "code",
      "source": "matrix = [[1 if i == j else 0 for j in range(4)] for i in range(4)]\n\nfor row in matrix:\n    print(row)\n",
      "metadata": {
        "trusted": true
      },
      "execution_count": 6,
      "outputs": [
        {
          "name": "stdout",
          "text": "[1, 0, 0, 0]\n[0, 1, 0, 0]\n[0, 0, 1, 0]\n[0, 0, 0, 1]\n",
          "output_type": "stream"
        }
      ]
    },
    {
      "cell_type": "code",
      "source": "matrix = [[j + 1 + i * 3 for j in range(3)] for i in range(3)]\nfor row in matrix:\n    print(row)\n",
      "metadata": {
        "trusted": true
      },
      "execution_count": 7,
      "outputs": [
        {
          "name": "stdout",
          "text": "[1, 2, 3]\n[4, 5, 6]\n[7, 8, 9]\n",
          "output_type": "stream"
        }
      ]
    },
    {
      "cell_type": "code",
      "source": "import numpy as np\narray1 = np.array([[1, 2, 3], [4, 5, 6], [7, 8, 9]])\narray2 = np.array([[10, 11, 12], [13, 14, 15], [16, 17, 18]])\n\nresult = array1 + array2\nprint(result)\n",
      "metadata": {
        "trusted": true
      },
      "execution_count": 9,
      "outputs": [
        {
          "name": "stdout",
          "text": "[[11 13 15]\n [17 19 21]\n [23 25 27]]\n",
          "output_type": "stream"
        }
      ]
    },
    {
      "cell_type": "code",
      "source": "from datetime import datetime, timedelta\n\nstart_date = datetime(2023, 2, 1)\nend_date = datetime(2023, 3, 1)\n\ndate_range = []\ncurrent_date = start_date\n\nwhile current_date <= end_date:\n    date_range.append(current_date)\n    current_date += timedelta(days=1)\n\nfor date in date_range:\n    print(date.strftime('%d-%m-%Y'))\n",
      "metadata": {
        "trusted": true
      },
      "execution_count": 10,
      "outputs": [
        {
          "name": "stdout",
          "text": "01-02-2023\n02-02-2023\n03-02-2023\n04-02-2023\n05-02-2023\n06-02-2023\n07-02-2023\n08-02-2023\n09-02-2023\n10-02-2023\n11-02-2023\n12-02-2023\n13-02-2023\n14-02-2023\n15-02-2023\n16-02-2023\n17-02-2023\n18-02-2023\n19-02-2023\n20-02-2023\n21-02-2023\n22-02-2023\n23-02-2023\n24-02-2023\n25-02-2023\n26-02-2023\n27-02-2023\n28-02-2023\n01-03-2023\n",
          "output_type": "stream"
        }
      ]
    },
    {
      "cell_type": "code",
      "source": "import pandas as pd\n\ndictionary = {'Brand': ['Maruti', 'Renault', 'Hyundai'], 'Sales': [250, 200, 240]}\ndf = pd.DataFrame(dictionary)\n\nprint(df)\n",
      "metadata": {
        "trusted": true
      },
      "execution_count": 13,
      "outputs": [
        {
          "name": "stdout",
          "text": "     Brand  Sales\n0   Maruti    250\n1  Renault    200\n2  Hyundai    240\n",
          "output_type": "stream"
        }
      ]
    }
  ]
}